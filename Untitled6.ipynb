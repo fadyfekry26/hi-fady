{
 "cells": [
  {
   "cell_type": "code",
   "execution_count": 5,
   "metadata": {},
   "outputs": [
    {
     "name": "stdout",
     "output_type": "stream",
     "text": [
      "10\n",
      "10 x 1 = 10\n",
      "10 x 2 = 20\n",
      "10 x 3 = 30\n",
      "10 x 4 = 40\n",
      "10 x 5 = 50\n",
      "10 x 6 = 60\n",
      "10 x 7 = 70\n",
      "10 x 8 = 80\n",
      "10 x 9 = 90\n",
      "10 x 10 = 100\n"
     ]
    }
   ],
   "source": [
    "num1=int(input())\n",
    "for i in range(1,11):\n",
    "    print(num1,'x',i,'=',num1*i)"
   ]
  },
  {
   "cell_type": "code",
   "execution_count": 15,
   "metadata": {},
   "outputs": [
    {
     "name": "stdout",
     "output_type": "stream",
     "text": [
      "the value of x = 10\n",
      "the value of y = 5\n",
      "this number is not divisable on x \n"
     ]
    }
   ],
   "source": [
    "x=int(input('the value of x = '))\n",
    "y=int(input('the value of y = '))\n",
    "if x/y!=int :\n",
    "    print('this number is not divisable on x ')\n",
    "else :\n",
    "    print ('this number is divisable on x')"
   ]
  },
  {
   "cell_type": "code",
   "execution_count": 14,
   "metadata": {},
   "outputs": [
    {
     "name": "stdout",
     "output_type": "stream",
     "text": [
      "<class 'float'>\n"
     ]
    }
   ],
   "source": [
    "print(type(x/y))"
   ]
  },
  {
   "cell_type": "code",
   "execution_count": 1,
   "metadata": {},
   "outputs": [
    {
     "name": "stdout",
     "output_type": "stream",
     "text": [
      "3.0\n"
     ]
    }
   ],
   "source": [
    "carrots = 24\n",
    "rabbits = 8\n",
    "crs_per_rab = carrots/rabbits\n",
    "rabbits =12\n",
    "print(crs_per_rab)"
   ]
  },
  {
   "cell_type": "code",
   "execution_count": 3,
   "metadata": {},
   "outputs": [
    {
     "name": "stdout",
     "output_type": "stream",
     "text": [
      "enter your gender =man\n",
      "Enter your age = 60\n",
      "Hello my grandfather\n"
     ]
    }
   ],
   "source": [
    "y=str(input('enter your gender ='))\n",
    "x=int(input('Enter your age = '))\n",
    "if  y ==('man'):\n",
    "    if x<8 :\n",
    "        print('Hi my hero')\n",
    "    elif x>=8 and x<12 :\n",
    "        print('Hi my young man')\n",
    "    elif x>=12 and x<20:\n",
    "        print('Hello my teen')\n",
    "    elif x>=20 and x<25 :\n",
    "        print('Hello my young man')\n",
    "    elif x>=25 and x<35 :\n",
    "        print('Hello my man ')\n",
    "    elif x>=35 and x<60:\n",
    "        print('Hello my big man')\n",
    "    else :\n",
    "        print('Hello my grandfather')\n",
    "else :\n",
    "    if x<8 :\n",
    "        print('Hi my littil Angel')\n",
    "    elif x>=8 and x<12 :\n",
    "        print('Hi my Angel')\n",
    "    elif x>=12 and x<20:\n",
    "        print('Hello my teen')\n",
    "    elif x>=20 and x<25 :\n",
    "        print('Hello my young lady')\n",
    "    elif x>=25 and x<35 :\n",
    "        print('Hello my lady')\n",
    "    elif x>=35 and x<60:\n",
    "        print('Hello my big woman')\n",
    "    else :\n",
    "        print('Hello my grandmom')\n"
   ]
  },
  {
   "cell_type": "code",
   "execution_count": null,
   "metadata": {},
   "outputs": [],
   "source": [
    "x=int(input())\n",
    "if x>=5:\n",
    "    print('hi')"
   ]
  },
  {
   "cell_type": "code",
   "execution_count": 22,
   "metadata": {},
   "outputs": [
    {
     "ename": "SyntaxError",
     "evalue": "invalid syntax (<ipython-input-22-9c53827cbeed>, line 5)",
     "output_type": "error",
     "traceback": [
      "\u001b[1;36m  File \u001b[1;32m\"<ipython-input-22-9c53827cbeed>\"\u001b[1;36m, line \u001b[1;32m5\u001b[0m\n\u001b[1;33m    verse.3index('you')\u001b[0m\n\u001b[1;37m          ^\u001b[0m\n\u001b[1;31mSyntaxError\u001b[0m\u001b[1;31m:\u001b[0m invalid syntax\n"
     ]
    }
   ],
   "source": [
    "verse = \"If you can keep your head when all about you\\n  Are losing theirs and blaming it on you,\\nIf you can trust yourself when all men doubt you,\\n  But make allowance for their doubting too;\\nIf you can wait and not be tired by waiting,\\n  Or being lied about, don’t deal in lies,\\nOr being hated, don’t give way to hating,\\n  And yet don’t look too good, nor talk too wise:\"\n",
    "print(verse)\n",
    "#verse.split()\n",
    "#verse.find('and')\n",
    "verse.3index('you')\n",
    "#len(verse)"
   ]
  },
  {
   "cell_type": "code",
   "execution_count": 26,
   "metadata": {},
   "outputs": [],
   "source": [
    "temp=[20,30,90,50]\n",
    "fer=[((9/5)*i+32) for i in temp]"
   ]
  },
  {
   "cell_type": "code",
   "execution_count": 27,
   "metadata": {},
   "outputs": [
    {
     "data": {
      "text/plain": [
       "[68.0, 86.0, 194.0, 122.0]"
      ]
     },
     "execution_count": 27,
     "metadata": {},
     "output_type": "execute_result"
    }
   ],
   "source": [
    "fer"
   ]
  },
  {
   "cell_type": "code",
   "execution_count": 40,
   "metadata": {},
   "outputs": [],
   "source": [
    "def GCD(a,b):\n",
    "    GCD=1\n",
    "    min_number=min(a,b)\n",
    "    for i in range (1,min_number+1):\n",
    "        if a % i==0 and b%i==0 :\n",
    "            GCD=i\n",
    "    return GCD"
   ]
  },
  {
   "cell_type": "code",
   "execution_count": 44,
   "metadata": {},
   "outputs": [
    {
     "data": {
      "text/plain": [
       "12"
      ]
     },
     "execution_count": 44,
     "metadata": {},
     "output_type": "execute_result"
    }
   ],
   "source": [
    "GCD(24,12)"
   ]
  },
  {
   "cell_type": "code",
   "execution_count": 50,
   "metadata": {},
   "outputs": [],
   "source": [
    "names=['ahmad','mohamed','yousef']"
   ]
  },
  {
   "cell_type": "code",
   "execution_count": 53,
   "metadata": {},
   "outputs": [],
   "source": [
    "def pip(names):\n",
    "    return names.title()"
   ]
  },
  {
   "cell_type": "raw",
   "metadata": {},
   "source": [
    "list(map(pip,names)\n",
    "     r"
   ]
  },
  {
   "cell_type": "code",
   "execution_count": 55,
   "metadata": {},
   "outputs": [],
   "source": [
    "from functools import reduce"
   ]
  },
  {
   "cell_type": "code",
   "execution_count": 3,
   "metadata": {},
   "outputs": [
    {
     "ename": "TypeError",
     "evalue": "'type' object is not subscriptable",
     "output_type": "error",
     "traceback": [
      "\u001b[1;31m---------------------------------------------------------------------------\u001b[0m",
      "\u001b[1;31mTypeError\u001b[0m                                 Traceback (most recent call last)",
      "\u001b[1;32m<ipython-input-3-c1e66de2e10b>\u001b[0m in \u001b[0;36m<module>\u001b[1;34m\u001b[0m\n\u001b[1;32m----> 1\u001b[1;33m \u001b[0my\u001b[0m\u001b[1;33m=\u001b[0m\u001b[0mlist\u001b[0m\u001b[1;33m(\u001b[0m\u001b[0mrange\u001b[0m\u001b[1;33m[\u001b[0m\u001b[1;36m1\u001b[0m\u001b[1;33m:\u001b[0m\u001b[1;36m21\u001b[0m\u001b[1;33m]\u001b[0m\u001b[1;33m)\u001b[0m\u001b[1;33m\u001b[0m\u001b[1;33m\u001b[0m\u001b[0m\n\u001b[0m",
      "\u001b[1;31mTypeError\u001b[0m: 'type' object is not subscriptable"
     ]
    }
   ],
   "source": [
    "y=list(range[1:21])"
   ]
  },
  {
   "cell_type": "code",
   "execution_count": 2,
   "metadata": {},
   "outputs": [],
   "source": [
    "def even_num(x):\n",
    "    return x%2==0 \n",
    "def cube_num (x):\n",
    "    return x**3\n",
    "def red_num(x):\n",
    "    return max(x**3)"
   ]
  },
  {
   "cell_type": "markdown",
   "metadata": {},
   "source": [
    "## how to creat custome medule"
   ]
  },
  {
   "cell_type": "code",
   "execution_count": null,
   "metadata": {},
   "outputs": [],
   "source": []
  }
 ],
 "metadata": {
  "kernelspec": {
   "display_name": "Python 3",
   "language": "python",
   "name": "python3"
  },
  "language_info": {
   "codemirror_mode": {
    "name": "ipython",
    "version": 3
   },
   "file_extension": ".py",
   "mimetype": "text/x-python",
   "name": "python",
   "nbconvert_exporter": "python",
   "pygments_lexer": "ipython3",
   "version": "3.7.6"
  }
 },
 "nbformat": 4,
 "nbformat_minor": 4
}
